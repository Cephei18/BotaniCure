{
  "nbformat": 4,
  "nbformat_minor": 0,
  "metadata": {
    "colab": {
      "provenance": [],
      "gpuType": "T4"
    },
    "kernelspec": {
      "name": "python3",
      "display_name": "Python 3"
    },
    "language_info": {
      "name": "python"
    },
    "accelerator": "GPU"
  },
  "cells": [
    {
      "cell_type": "code",
      "source": [
        "import numpy as np\n",
        "import pandas as pd\n",
        "import matplotlib.pyplot as plt\n"
      ],
      "metadata": {
        "id": "4DjTg5djEpBt"
      },
      "execution_count": null,
      "outputs": []
    },
    {
      "cell_type": "code",
      "source": [
        "!pip install -q kaggle"
      ],
      "metadata": {
        "id": "BT6kz24I9WDj"
      },
      "execution_count": null,
      "outputs": []
    },
    {
      "cell_type": "code",
      "source": [
        "from google.colab import files\n",
        "files.upload()"
      ],
      "metadata": {
        "colab": {
          "base_uri": "https://localhost:8080/",
          "height": 90
        },
        "id": "r0mnV9Do9hRn",
        "outputId": "2e56cebd-a403-43a2-b644-25ff55d4e042"
      },
      "execution_count": null,
      "outputs": [
        {
          "output_type": "display_data",
          "data": {
            "text/plain": [
              "<IPython.core.display.HTML object>"
            ],
            "text/html": [
              "\n",
              "     <input type=\"file\" id=\"files-9ce8738b-6ab1-4192-b14a-bbb80fd746df\" name=\"files[]\" multiple disabled\n",
              "        style=\"border:none\" />\n",
              "     <output id=\"result-9ce8738b-6ab1-4192-b14a-bbb80fd746df\">\n",
              "      Upload widget is only available when the cell has been executed in the\n",
              "      current browser session. Please rerun this cell to enable.\n",
              "      </output>\n",
              "      <script>// Copyright 2017 Google LLC\n",
              "//\n",
              "// Licensed under the Apache License, Version 2.0 (the \"License\");\n",
              "// you may not use this file except in compliance with the License.\n",
              "// You may obtain a copy of the License at\n",
              "//\n",
              "//      http://www.apache.org/licenses/LICENSE-2.0\n",
              "//\n",
              "// Unless required by applicable law or agreed to in writing, software\n",
              "// distributed under the License is distributed on an \"AS IS\" BASIS,\n",
              "// WITHOUT WARRANTIES OR CONDITIONS OF ANY KIND, either express or implied.\n",
              "// See the License for the specific language governing permissions and\n",
              "// limitations under the License.\n",
              "\n",
              "/**\n",
              " * @fileoverview Helpers for google.colab Python module.\n",
              " */\n",
              "(function(scope) {\n",
              "function span(text, styleAttributes = {}) {\n",
              "  const element = document.createElement('span');\n",
              "  element.textContent = text;\n",
              "  for (const key of Object.keys(styleAttributes)) {\n",
              "    element.style[key] = styleAttributes[key];\n",
              "  }\n",
              "  return element;\n",
              "}\n",
              "\n",
              "// Max number of bytes which will be uploaded at a time.\n",
              "const MAX_PAYLOAD_SIZE = 100 * 1024;\n",
              "\n",
              "function _uploadFiles(inputId, outputId) {\n",
              "  const steps = uploadFilesStep(inputId, outputId);\n",
              "  const outputElement = document.getElementById(outputId);\n",
              "  // Cache steps on the outputElement to make it available for the next call\n",
              "  // to uploadFilesContinue from Python.\n",
              "  outputElement.steps = steps;\n",
              "\n",
              "  return _uploadFilesContinue(outputId);\n",
              "}\n",
              "\n",
              "// This is roughly an async generator (not supported in the browser yet),\n",
              "// where there are multiple asynchronous steps and the Python side is going\n",
              "// to poll for completion of each step.\n",
              "// This uses a Promise to block the python side on completion of each step,\n",
              "// then passes the result of the previous step as the input to the next step.\n",
              "function _uploadFilesContinue(outputId) {\n",
              "  const outputElement = document.getElementById(outputId);\n",
              "  const steps = outputElement.steps;\n",
              "\n",
              "  const next = steps.next(outputElement.lastPromiseValue);\n",
              "  return Promise.resolve(next.value.promise).then((value) => {\n",
              "    // Cache the last promise value to make it available to the next\n",
              "    // step of the generator.\n",
              "    outputElement.lastPromiseValue = value;\n",
              "    return next.value.response;\n",
              "  });\n",
              "}\n",
              "\n",
              "/**\n",
              " * Generator function which is called between each async step of the upload\n",
              " * process.\n",
              " * @param {string} inputId Element ID of the input file picker element.\n",
              " * @param {string} outputId Element ID of the output display.\n",
              " * @return {!Iterable<!Object>} Iterable of next steps.\n",
              " */\n",
              "function* uploadFilesStep(inputId, outputId) {\n",
              "  const inputElement = document.getElementById(inputId);\n",
              "  inputElement.disabled = false;\n",
              "\n",
              "  const outputElement = document.getElementById(outputId);\n",
              "  outputElement.innerHTML = '';\n",
              "\n",
              "  const pickedPromise = new Promise((resolve) => {\n",
              "    inputElement.addEventListener('change', (e) => {\n",
              "      resolve(e.target.files);\n",
              "    });\n",
              "  });\n",
              "\n",
              "  const cancel = document.createElement('button');\n",
              "  inputElement.parentElement.appendChild(cancel);\n",
              "  cancel.textContent = 'Cancel upload';\n",
              "  const cancelPromise = new Promise((resolve) => {\n",
              "    cancel.onclick = () => {\n",
              "      resolve(null);\n",
              "    };\n",
              "  });\n",
              "\n",
              "  // Wait for the user to pick the files.\n",
              "  const files = yield {\n",
              "    promise: Promise.race([pickedPromise, cancelPromise]),\n",
              "    response: {\n",
              "      action: 'starting',\n",
              "    }\n",
              "  };\n",
              "\n",
              "  cancel.remove();\n",
              "\n",
              "  // Disable the input element since further picks are not allowed.\n",
              "  inputElement.disabled = true;\n",
              "\n",
              "  if (!files) {\n",
              "    return {\n",
              "      response: {\n",
              "        action: 'complete',\n",
              "      }\n",
              "    };\n",
              "  }\n",
              "\n",
              "  for (const file of files) {\n",
              "    const li = document.createElement('li');\n",
              "    li.append(span(file.name, {fontWeight: 'bold'}));\n",
              "    li.append(span(\n",
              "        `(${file.type || 'n/a'}) - ${file.size} bytes, ` +\n",
              "        `last modified: ${\n",
              "            file.lastModifiedDate ? file.lastModifiedDate.toLocaleDateString() :\n",
              "                                    'n/a'} - `));\n",
              "    const percent = span('0% done');\n",
              "    li.appendChild(percent);\n",
              "\n",
              "    outputElement.appendChild(li);\n",
              "\n",
              "    const fileDataPromise = new Promise((resolve) => {\n",
              "      const reader = new FileReader();\n",
              "      reader.onload = (e) => {\n",
              "        resolve(e.target.result);\n",
              "      };\n",
              "      reader.readAsArrayBuffer(file);\n",
              "    });\n",
              "    // Wait for the data to be ready.\n",
              "    let fileData = yield {\n",
              "      promise: fileDataPromise,\n",
              "      response: {\n",
              "        action: 'continue',\n",
              "      }\n",
              "    };\n",
              "\n",
              "    // Use a chunked sending to avoid message size limits. See b/62115660.\n",
              "    let position = 0;\n",
              "    do {\n",
              "      const length = Math.min(fileData.byteLength - position, MAX_PAYLOAD_SIZE);\n",
              "      const chunk = new Uint8Array(fileData, position, length);\n",
              "      position += length;\n",
              "\n",
              "      const base64 = btoa(String.fromCharCode.apply(null, chunk));\n",
              "      yield {\n",
              "        response: {\n",
              "          action: 'append',\n",
              "          file: file.name,\n",
              "          data: base64,\n",
              "        },\n",
              "      };\n",
              "\n",
              "      let percentDone = fileData.byteLength === 0 ?\n",
              "          100 :\n",
              "          Math.round((position / fileData.byteLength) * 100);\n",
              "      percent.textContent = `${percentDone}% done`;\n",
              "\n",
              "    } while (position < fileData.byteLength);\n",
              "  }\n",
              "\n",
              "  // All done.\n",
              "  yield {\n",
              "    response: {\n",
              "      action: 'complete',\n",
              "    }\n",
              "  };\n",
              "}\n",
              "\n",
              "scope.google = scope.google || {};\n",
              "scope.google.colab = scope.google.colab || {};\n",
              "scope.google.colab._files = {\n",
              "  _uploadFiles,\n",
              "  _uploadFilesContinue,\n",
              "};\n",
              "})(self);\n",
              "</script> "
            ]
          },
          "metadata": {}
        },
        {
          "output_type": "stream",
          "name": "stdout",
          "text": [
            "Saving kaggle.json to kaggle.json\n"
          ]
        },
        {
          "output_type": "execute_result",
          "data": {
            "text/plain": [
              "{'kaggle.json': b'{\"username\":\"gopikachauhan18\",\"key\":\"23d6f6f3a390326ec7c0e5210b463eaa\"}'}"
            ]
          },
          "metadata": {},
          "execution_count": 6
        }
      ]
    },
    {
      "cell_type": "code",
      "source": [
        "!mkdir ~/.kaggle\n",
        "!cp kaggle.json ~/.kaggle/\n"
      ],
      "metadata": {
        "id": "nTKyeivc9snA"
      },
      "execution_count": null,
      "outputs": []
    },
    {
      "cell_type": "code",
      "source": [
        "!mkdir -p kaggle\n",
        "!cp kaggle.json kaggle/\n"
      ],
      "metadata": {
        "id": "oGR1dFnd-ght"
      },
      "execution_count": null,
      "outputs": []
    },
    {
      "cell_type": "code",
      "source": [
        "! chmod 600 ~/.kaggle/kaggle.json"
      ],
      "metadata": {
        "id": "3b00419A-i3E"
      },
      "execution_count": null,
      "outputs": []
    },
    {
      "cell_type": "code",
      "source": [
        "! kaggle datasets list"
      ],
      "metadata": {
        "colab": {
          "base_uri": "https://localhost:8080/"
        },
        "id": "V2cu_87d-xQk",
        "outputId": "a098f6b5-c069-47c2-99a1-02f1bfd15d51"
      },
      "execution_count": null,
      "outputs": [
        {
          "output_type": "stream",
          "name": "stdout",
          "text": [
            "ref                                                           title                                               size  lastUpdated          downloadCount  voteCount  usabilityRating  \n",
            "------------------------------------------------------------  -------------------------------------------------  -----  -------------------  -------------  ---------  ---------------  \n",
            "muhammadroshaanriaz/students-performance-dataset-cleaned      Students Performance | Clean Dataset                10KB  2024-10-29 19:32:26           8330        153  1.0              \n",
            "jacopoferretti/incomes-of-30k-usa-citizens                    Incomes of 30K USA Citizens                        468KB  2024-11-17 00:16:20           1014         22  1.0              \n",
            "steve1215rogg/student-lifestyle-dataset                       student lifestyle dataset                           22KB  2024-11-11 19:11:28           3830         53  1.0              \n",
            "jakewright/200k-youtube-channel-analytics                     200k YouTube Channel Analytics                       4MB  2024-11-13 16:31:28           1144         32  1.0              \n",
            "daniellopez01/credit-risk                                     credit_risk                                         13KB  2024-11-17 22:13:54            962         29  1.0              \n",
            "iamtapendu/bird-strike-by-aircafts-data                       Bird Strikes in Aviation: Aircraft Collisions        1MB  2024-11-15 13:41:24            784         24  1.0              \n",
            "valakhorasani/gym-members-exercise-dataset                    Gym Members Exercise Dataset                        22KB  2024-10-06 11:27:38          18643        263  1.0              \n",
            "whisperingkahuna/footballers-with-50-international-goals-men  Footballers with 50+ International Goals [men]       3KB  2024-11-17 12:51:23           1222         26  1.0              \n",
            "positivealexey/youtube-channel-performance-analytics          YouTube Channel Performance Analytics               40KB  2024-10-25 10:06:26           2225         35  1.0              \n",
            "valakhorasani/mobile-device-usage-and-user-behavior-dataset   Mobile Device Usage and User Behavior Dataset       11KB  2024-09-28 20:21:12          29183        553  1.0              \n",
            "computingvictor/transactions-fraud-datasets                   💳 Financial Transactions Dataset: Analytics        348MB  2024-10-31 21:29:56           4250         62  1.0              \n",
            "oscarbatiz/los-angeles-airbnb-listings                        Los Angeles Airbnb Listings                          3MB  2024-10-30 22:18:33           1325         22  1.0              \n",
            "ravindrasinghrana/carbon-co2-emissions                        Carbon (CO2) Emissions                              42KB  2024-10-28 09:11:56           2222         30  1.0              \n",
            "ironwolf437/laptop-price-dataset                              Laptop Price - dataset‏                             25KB  2024-11-12 15:50:44           2108         42  1.0              \n",
            "franciscogcc/financial-data                                   Gold Price Regression                              510KB  2024-10-23 23:35:36           1680         33  1.0              \n",
            "satayjit/student-performance-bd                               Student Performance-BD                             263KB  2024-11-14 05:43:38            839         25  0.88235295       \n",
            "mrmars1010/banana-quality-dataset                             Banana Quality dataset                              34KB  2024-11-07 08:52:35            993         27  0.9411765        \n",
            "taweilo/loan-approval-classification-data                     Loan Approval Classification Dataset               751KB  2024-10-29 04:07:34           4983         54  1.0              \n",
            "valakhorasani/bank-transaction-dataset-for-fraud-detection    Bank Transaction Dataset for Fraud Detection       102KB  2024-11-04 09:23:49           2739         52  1.0              \n",
            "aadyasingh55/drug-dataset                                     Drug Dataset: Uses, Side Effects and User Reviews  762KB  2024-10-22 13:53:50           1125         21  1.0              \n"
          ]
        }
      ]
    },
    {
      "cell_type": "code",
      "source": [
        "!kaggle datasets download -d dinodev/majorplantdiseasedetection\n"
      ],
      "metadata": {
        "colab": {
          "base_uri": "https://localhost:8080/"
        },
        "id": "z9BSBE2sAM4l",
        "outputId": "b0ebcdb0-396f-41bc-b188-0298010d139a"
      },
      "execution_count": null,
      "outputs": [
        {
          "output_type": "stream",
          "name": "stdout",
          "text": [
            "Dataset URL: https://www.kaggle.com/datasets/dinodev/majorplantdiseasedetection\n",
            "License(s): unknown\n",
            "Downloading majorplantdiseasedetection.zip to /content\n",
            "100% 1.55G/1.55G [00:52<00:00, 38.3MB/s]\n",
            "100% 1.55G/1.55G [00:52<00:00, 31.4MB/s]\n"
          ]
        }
      ]
    },
    {
      "cell_type": "code",
      "source": [
        "import zipfile\n",
        "with zipfile.ZipFile(\"majorplantdiseasedetection.zip\", 'r') as zip_ref:\n",
        "    zip_ref.extractall(\"majorplantdiseasedetection_data\")\n"
      ],
      "metadata": {
        "id": "rePgI6Y5AiSZ"
      },
      "execution_count": null,
      "outputs": []
    },
    {
      "cell_type": "code",
      "source": [
        "import os\n",
        "print(os.listdir())\n"
      ],
      "metadata": {
        "colab": {
          "base_uri": "https://localhost:8080/"
        },
        "id": "MeZAM4KKBhId",
        "outputId": "6579a286-bc03-4def-bcc9-b39947c0a436"
      },
      "execution_count": null,
      "outputs": [
        {
          "output_type": "stream",
          "name": "stdout",
          "text": [
            "['.config', 'kaggle', 'kaggle.json', 'majorplantdiseasedetection_data', 'majorplantdiseasedetection.zip', 'sample_data']\n"
          ]
        }
      ]
    },
    {
      "cell_type": "code",
      "source": [
        "!file majorplantdiseasedetection_data\n"
      ],
      "metadata": {
        "colab": {
          "base_uri": "https://localhost:8080/"
        },
        "id": "Kex-I-P5B4CO",
        "outputId": "825fec2b-c87b-4182-ee97-7a38283b803c"
      },
      "execution_count": null,
      "outputs": [
        {
          "output_type": "stream",
          "name": "stdout",
          "text": [
            "majorplantdiseasedetection_data: directory\n"
          ]
        }
      ]
    },
    {
      "cell_type": "code",
      "source": [
        "import os\n",
        "print(os.listdir('majorplantdiseasedetection_data'))\n"
      ],
      "metadata": {
        "colab": {
          "base_uri": "https://localhost:8080/"
        },
        "id": "YFojkM6tCeva",
        "outputId": "47091950-9e11-48f1-983e-81ebb7b31066"
      },
      "execution_count": null,
      "outputs": [
        {
          "output_type": "stream",
          "name": "stdout",
          "text": [
            "['dataset']\n"
          ]
        }
      ]
    },
    {
      "cell_type": "code",
      "source": [
        "import os\n",
        "print(os.listdir('majorplantdiseasedetection_data/dataset/train'))\n"
      ],
      "metadata": {
        "colab": {
          "base_uri": "https://localhost:8080/"
        },
        "id": "6_uzTAoXCl7D",
        "outputId": "ab345db2-b4f5-4deb-d3ce-40c2ea09b4a9"
      },
      "execution_count": null,
      "outputs": [
        {
          "output_type": "stream",
          "name": "stdout",
          "text": [
            "['Pepper,_bell___Bacterial_spot', 'Grape___Esca_(Black_Measles)', 'Coffee__red spider mite', 'Grape___Leaf_blight_(Isariopsis_Leaf_Spot)', 'Potato___Early_blight', 'Strawberry___Leaf_scorch', 'Chili__leaf spot', 'Tomato___Early_blight', 'Potato___healthy', 'Grape___Black_rot', 'Apple___Black_rot', 'Corn_(maize)___healthy', 'Corn_(maize)___Cercospora_leaf_spot Gray_leaf_spot', 'Apple___Apple_scab', 'Tomato___Bacterial_spot', 'Chili__whitefly', 'Cherry_(including_sour)___healthy', 'Potato___Late_blight', 'Strawberry___healthy', 'Chili__yellowish', 'Coffee__Rust', 'Corn_(maize)___Northern_Leaf_Blight', 'Tomato___healthy', 'Peach___healthy', 'Tomato___Spider_mites Two-spotted_spider_mite', 'Tomato___Late_blight', 'Pepper,_bell___healthy', 'Tomato___Tomato_mosaic_virus', 'Chili__healthy', 'Tomato___Tomato_Yellow_Leaf_Curl_Virus', 'Peach___Bacterial_spot', 'Tomato___Target_Spot', 'Grape___healthy', 'Corn_(maize)___Common_rust_', 'Apple___healthy', 'Apple___Cedar_apple_rust', 'Tomato___Leaf_Mold', 'Cherry_(including_sour)___Powdery_mildew', 'Tomato___Septoria_leaf_spot', 'Coffee__healthy', 'Chili__leaf curl']\n"
          ]
        }
      ]
    },
    {
      "cell_type": "code",
      "source": [
        "import os\n",
        "\n",
        "folder = 'majorplantdiseasedetection_data/dataset/train'\n",
        "images = os.listdir(folder)\n",
        "print(f\"Number of images: {len(images)}\")\n",
        "print(images[:5])  # Show the first 5 images\n"
      ],
      "metadata": {
        "colab": {
          "base_uri": "https://localhost:8080/"
        },
        "id": "qJNYPmv2C4Dm",
        "outputId": "dbd45caa-f7af-49fe-e3f8-3ea9335ae513"
      },
      "execution_count": null,
      "outputs": [
        {
          "output_type": "stream",
          "name": "stdout",
          "text": [
            "Number of images: 41\n",
            "['Pepper,_bell___Bacterial_spot', 'Grape___Esca_(Black_Measles)', 'Coffee__red spider mite', 'Grape___Leaf_blight_(Isariopsis_Leaf_Spot)', 'Potato___Early_blight']\n"
          ]
        }
      ]
    },
    {
      "cell_type": "code",
      "source": [
        "from tensorflow.keras.preprocessing.image import ImageDataGenerator\n",
        "\n",
        "# Create an instance of ImageDataGenerator\n",
        "train_datagen = ImageDataGenerator(\n",
        "    rescale=1./255,  # Normalize pixel values to [0, 1]\n",
        "    # Add other augmentation options if needed (e.g., rotation_range, shear_range, etc.)\n",
        ")\n",
        "\n",
        "train_dataset = train_datagen.flow_from_directory(\n",
        "    'majorplantdiseasedetection_data/dataset/train',  # Replace with the actual path\n",
        "    target_size=(299, 299),\n",
        "    batch_size=32,\n",
        "    class_mode='categorical'\n",
        ")"
      ],
      "metadata": {
        "colab": {
          "base_uri": "https://localhost:8080/"
        },
        "id": "7h2XkJMjKtmz",
        "outputId": "709f49b9-fe10-4759-fa7c-debcad6ffb80"
      },
      "execution_count": null,
      "outputs": [
        {
          "output_type": "stream",
          "name": "stdout",
          "text": [
            "Found 33111 images belonging to 41 classes.\n"
          ]
        }
      ]
    },
    {
      "cell_type": "code",
      "source": [
        "from tensorflow.keras.applications import InceptionV3\n",
        "from tensorflow.keras.layers import Dense, GlobalAveragePooling2D, Dropout, Flatten, Input\n",
        "from tensorflow.keras.models import Model\n",
        "from tensorflow.keras.optimizers import Adam\n",
        "from tensorflow.keras.preprocessing.image import ImageDataGenerator\n",
        "from tensorflow.keras.applications.inception_v3 import preprocess_input\n",
        "from tensorflow.keras.layers import Flatten, Dense, Dropout, Input\n",
        "from tensorflow.keras.models import Model\n",
        "from tensorflow.keras.optimizers import Adam\n",
        "from tensorflow.keras.utils import to_categorical\n",
        "from tensorflow.keras.preprocessing.image import ImageDataGenerator\n",
        "\n",
        "import numpy as np\n",
        "from sklearn.metrics import classification_report\n",
        "import time"
      ],
      "metadata": {
        "id": "gl_nm6kPDc9l"
      },
      "execution_count": null,
      "outputs": []
    },
    {
      "cell_type": "code",
      "source": [
        "import os\n",
        "\n",
        "directory = 'majorplantdiseasedetection_data/dataset/train'\n",
        "contents = os.listdir(directory)\n",
        "num_of_dirs = len([name for name in contents if os.path.isdir(os.path.join(directory, name))])\n",
        "\n",
        "print(\"Contents of the directory:\")\n",
        "for item in contents:\n",
        "    print(item)\n",
        "\n",
        "print(f\"\\nNumber of directories: {num_of_dirs}\")"
      ],
      "metadata": {
        "colab": {
          "base_uri": "https://localhost:8080/"
        },
        "id": "gGnyT5ZTDmMs",
        "outputId": "801b58f4-cfbb-438e-d842-9ed82d507d0b"
      },
      "execution_count": null,
      "outputs": [
        {
          "output_type": "stream",
          "name": "stdout",
          "text": [
            "Contents of the directory:\n",
            "Pepper,_bell___Bacterial_spot\n",
            "Grape___Esca_(Black_Measles)\n",
            "Coffee__red spider mite\n",
            "Grape___Leaf_blight_(Isariopsis_Leaf_Spot)\n",
            "Potato___Early_blight\n",
            "Strawberry___Leaf_scorch\n",
            "Chili__leaf spot\n",
            "Tomato___Early_blight\n",
            "Potato___healthy\n",
            "Grape___Black_rot\n",
            "Apple___Black_rot\n",
            "Corn_(maize)___healthy\n",
            "Corn_(maize)___Cercospora_leaf_spot Gray_leaf_spot\n",
            "Apple___Apple_scab\n",
            "Tomato___Bacterial_spot\n",
            "Chili__whitefly\n",
            "Cherry_(including_sour)___healthy\n",
            "Potato___Late_blight\n",
            "Strawberry___healthy\n",
            "Chili__yellowish\n",
            "Coffee__Rust\n",
            "Corn_(maize)___Northern_Leaf_Blight\n",
            "Tomato___healthy\n",
            "Peach___healthy\n",
            "Tomato___Spider_mites Two-spotted_spider_mite\n",
            "Tomato___Late_blight\n",
            "Pepper,_bell___healthy\n",
            "Tomato___Tomato_mosaic_virus\n",
            "Chili__healthy\n",
            "Tomato___Tomato_Yellow_Leaf_Curl_Virus\n",
            "Peach___Bacterial_spot\n",
            "Tomato___Target_Spot\n",
            "Grape___healthy\n",
            "Corn_(maize)___Common_rust_\n",
            "Apple___healthy\n",
            "Apple___Cedar_apple_rust\n",
            "Tomato___Leaf_Mold\n",
            "Cherry_(including_sour)___Powdery_mildew\n",
            "Tomato___Septoria_leaf_spot\n",
            "Coffee__healthy\n",
            "Chili__leaf curl\n",
            "\n",
            "Number of directories: 41\n"
          ]
        }
      ]
    },
    {
      "cell_type": "code",
      "source": [
        "from PIL import Image\n",
        "import os\n",
        "\n",
        "# Define the directory path\n",
        "directory_path = 'majorplantdiseasedetection_data/dataset/train'\n",
        "\n",
        "# List all files in the directory\n",
        "file_names = os.listdir(directory_path)\n",
        "\n",
        "# Load images from the directory\n",
        "images = []\n",
        "for file_name in file_names:\n",
        "    if file_name.endswith('.png') or file_name.endswith('.jpg') or file_name.endswith('.jpeg'):\n",
        "        image_path = os.path.join(directory_path, file_name)\n",
        "        image = Image.open(image_path)\n",
        "        images.append(image)\n",
        "# Process the images as required\n",
        "# ...\n",
        "\n",
        "# Example: Showing the first image\n",
        "if images:\n",
        "    images[0].show()\n",
        "else:\n",
        "    print(\"No images found in the directory.\")"
      ],
      "metadata": {
        "colab": {
          "base_uri": "https://localhost:8080/"
        },
        "id": "cgbE2MMTEREM",
        "outputId": "c10e5942-98fa-4e8e-e54b-3b8a75195551"
      },
      "execution_count": null,
      "outputs": [
        {
          "output_type": "stream",
          "name": "stdout",
          "text": [
            "No images found in the directory.\n"
          ]
        }
      ]
    },
    {
      "cell_type": "code",
      "source": [
        "# Define parameters\n",
        "batch_size = 128\n",
        "num_epochs = 40\n",
        "image_size = (139, 139)\n",
        "num_classes = 41"
      ],
      "metadata": {
        "id": "X_4-h9JsE5i7"
      },
      "execution_count": null,
      "outputs": []
    },
    {
      "cell_type": "code",
      "source": [
        "# Load the InceptionV3 model\n",
        "image_input = Input(shape=(*image_size, 3))\n",
        "inception_model = InceptionV3(input_tensor=image_input, weights='imagenet', include_top=False)"
      ],
      "metadata": {
        "colab": {
          "base_uri": "https://localhost:8080/"
        },
        "id": "-SRT9Wx-E_it",
        "outputId": "985a6fcd-3764-4cd0-b318-5d229f99830e"
      },
      "execution_count": null,
      "outputs": [
        {
          "output_type": "stream",
          "name": "stdout",
          "text": [
            "Downloading data from https://storage.googleapis.com/tensorflow/keras-applications/inception_v3/inception_v3_weights_tf_dim_ordering_tf_kernels_notop.h5\n",
            "\u001b[1m87910968/87910968\u001b[0m \u001b[32m━━━━━━━━━━━━━━━━━━━━\u001b[0m\u001b[37m\u001b[0m \u001b[1m3s\u001b[0m 0us/step\n"
          ]
        }
      ]
    },
    {
      "cell_type": "code",
      "source": [
        "# Add a new classification layer\n",
        "x = inception_model.output\n",
        "x = GlobalAveragePooling2D()(x)\n",
        "x = Dense(128, activation='relu')(x)\n",
        "x = Dropout(0.5)(x)\n",
        "class_outputs = Dense(num_classes, activation='softmax')(x)"
      ],
      "metadata": {
        "id": "mT7N7--oFJ7-"
      },
      "execution_count": null,
      "outputs": []
    },
    {
      "cell_type": "code",
      "source": [
        "# Create the model\n",
        "model = Model(inputs=inception_model.input, outputs=class_outputs)\n",
        "\n",
        "# Compile the model\n",
        "model.compile(loss='categorical_crossentropy', optimizer=Adam(learning_rate=0.001), metrics=['accuracy'])\n",
        "\n",
        "# Load the training data\n",
        "train_datagen = ImageDataGenerator(\n",
        "    preprocessing_function=preprocess_input,\n",
        "    rotation_range=20,\n",
        "    width_shift_range=0.2,\n",
        "    height_shift_range=0.2,\n",
        "    horizontal_flip=True\n",
        ")\n",
        "train_dataset = train_datagen.flow_from_directory(\n",
        "    'majorplantdiseasedetection_data/dataset/train',\n",
        "    target_size=(139, 139),\n",
        "    batch_size=batch_size,\n",
        "    class_mode='categorical'\n",
        ")\n",
        "\n",
        "# Load the validation data\n",
        "val_datagen = ImageDataGenerator(preprocessing_function=preprocess_input)\n",
        "\n",
        "val_dataset = val_datagen.flow_from_directory(\n",
        "    'majorplantdiseasedetection_data/dataset/train',\n",
        "    target_size=(139,139),\n",
        "    batch_size=batch_size,\n",
        "    class_mode='categorical'\n",
        ")\n",
        "# Train the model and store the history\n",
        "history = model.fit(train_dataset, epochs=num_epochs, validation_data=val_dataset)\n",
        "\n",
        "# Evaluate the model on the test data\n",
        "test_datagen = ImageDataGenerator(preprocessing_function=preprocess_input)\n",
        "\n",
        "test_dataset = test_datagen.flow_from_directory(\n",
        "    'majorplantdiseasedetection_data/dataset/test',\n",
        "    target_size=(139,139),\n",
        "    batch_size=batch_size,\n",
        "    class_mode='categorical'\n",
        ")\n",
        "\n",
        "# Save the model\n",
        "model.save('plant_disease_model_inception.h5')"
      ],
      "metadata": {
        "colab": {
          "base_uri": "https://localhost:8080/"
        },
        "id": "O6Fi2xzmGTyD",
        "outputId": "fdc3ae74-a638-4bb5-8864-333b0502b21f"
      },
      "execution_count": null,
      "outputs": [
        {
          "output_type": "stream",
          "name": "stdout",
          "text": [
            "Found 33111 images belonging to 41 classes.\n",
            "Found 33111 images belonging to 41 classes.\n",
            "Epoch 1/40\n"
          ]
        },
        {
          "output_type": "stream",
          "name": "stderr",
          "text": [
            "/usr/local/lib/python3.10/dist-packages/keras/src/trainers/data_adapters/py_dataset_adapter.py:122: UserWarning: Your `PyDataset` class should call `super().__init__(**kwargs)` in its constructor. `**kwargs` can include `workers`, `use_multiprocessing`, `max_queue_size`. Do not pass these arguments to `fit()`, as they will be ignored.\n",
            "  self._warn_if_super_not_called()\n"
          ]
        },
        {
          "output_type": "stream",
          "name": "stdout",
          "text": [
            "\u001b[1m259/259\u001b[0m \u001b[32m━━━━━━━━━━━━━━━━━━━━\u001b[0m\u001b[37m\u001b[0m \u001b[1m439s\u001b[0m 1s/step - accuracy: 0.6462 - loss: 1.3976 - val_accuracy: 0.5199 - val_loss: 3.0585\n",
            "Epoch 2/40\n",
            "\u001b[1m259/259\u001b[0m \u001b[32m━━━━━━━━━━━━━━━━━━━━\u001b[0m\u001b[37m\u001b[0m \u001b[1m280s\u001b[0m 1s/step - accuracy: 0.9025 - loss: 0.3644 - val_accuracy: 0.7019 - val_loss: 1.4923\n",
            "Epoch 3/40\n",
            "\u001b[1m259/259\u001b[0m \u001b[32m━━━━━━━━━━━━━━━━━━━━\u001b[0m\u001b[37m\u001b[0m \u001b[1m326s\u001b[0m 1s/step - accuracy: 0.9230 - loss: 0.2737 - val_accuracy: 0.8084 - val_loss: 0.7854\n",
            "Epoch 4/40\n",
            "\u001b[1m259/259\u001b[0m \u001b[32m━━━━━━━━━━━━━━━━━━━━\u001b[0m\u001b[37m\u001b[0m \u001b[1m278s\u001b[0m 1s/step - accuracy: 0.9417 - loss: 0.2084 - val_accuracy: 0.8245 - val_loss: 0.9649\n",
            "Epoch 5/40\n",
            "\u001b[1m259/259\u001b[0m \u001b[32m━━━━━━━━━━━━━━━━━━━━\u001b[0m\u001b[37m\u001b[0m \u001b[1m326s\u001b[0m 1s/step - accuracy: 0.9485 - loss: 0.1768 - val_accuracy: 0.7715 - val_loss: 0.9467\n",
            "Epoch 6/40\n",
            "\u001b[1m259/259\u001b[0m \u001b[32m━━━━━━━━━━━━━━━━━━━━\u001b[0m\u001b[37m\u001b[0m \u001b[1m318s\u001b[0m 1s/step - accuracy: 0.9552 - loss: 0.1558 - val_accuracy: 0.7897 - val_loss: 1.0703\n",
            "Epoch 7/40\n",
            "\u001b[1m259/259\u001b[0m \u001b[32m━━━━━━━━━━━━━━━━━━━━\u001b[0m\u001b[37m\u001b[0m \u001b[1m320s\u001b[0m 1s/step - accuracy: 0.9585 - loss: 0.1406 - val_accuracy: 0.8619 - val_loss: 0.5175\n",
            "Epoch 8/40\n",
            "\u001b[1m259/259\u001b[0m \u001b[32m━━━━━━━━━━━━━━━━━━━━\u001b[0m\u001b[37m\u001b[0m \u001b[1m325s\u001b[0m 1s/step - accuracy: 0.9623 - loss: 0.1284 - val_accuracy: 0.8819 - val_loss: 0.4424\n",
            "Epoch 9/40\n",
            "\u001b[1m259/259\u001b[0m \u001b[32m━━━━━━━━━━━━━━━━━━━━\u001b[0m\u001b[37m\u001b[0m \u001b[1m281s\u001b[0m 1s/step - accuracy: 0.9670 - loss: 0.1114 - val_accuracy: 0.8812 - val_loss: 0.5162\n",
            "Epoch 10/40\n",
            "\u001b[1m259/259\u001b[0m \u001b[32m━━━━━━━━━━━━━━━━━━━━\u001b[0m\u001b[37m\u001b[0m \u001b[1m321s\u001b[0m 1s/step - accuracy: 0.9672 - loss: 0.1124 - val_accuracy: 0.9276 - val_loss: 0.2770\n",
            "Epoch 11/40\n",
            "\u001b[1m259/259\u001b[0m \u001b[32m━━━━━━━━━━━━━━━━━━━━\u001b[0m\u001b[37m\u001b[0m \u001b[1m348s\u001b[0m 1s/step - accuracy: 0.9695 - loss: 0.1103 - val_accuracy: 0.9188 - val_loss: 0.3236\n",
            "Epoch 12/40\n",
            "\u001b[1m259/259\u001b[0m \u001b[32m━━━━━━━━━━━━━━━━━━━━\u001b[0m\u001b[37m\u001b[0m \u001b[1m278s\u001b[0m 1s/step - accuracy: 0.9695 - loss: 0.1089 - val_accuracy: 0.8990 - val_loss: 0.6218\n",
            "Epoch 13/40\n",
            "\u001b[1m259/259\u001b[0m \u001b[32m━━━━━━━━━━━━━━━━━━━━\u001b[0m\u001b[37m\u001b[0m \u001b[1m278s\u001b[0m 1s/step - accuracy: 0.9733 - loss: 0.0914 - val_accuracy: 0.6505 - val_loss: 2.0725\n",
            "Epoch 14/40\n",
            "\u001b[1m259/259\u001b[0m \u001b[32m━━━━━━━━━━━━━━━━━━━━\u001b[0m\u001b[37m\u001b[0m \u001b[1m306s\u001b[0m 1s/step - accuracy: 0.9728 - loss: 0.0925 - val_accuracy: 0.9299 - val_loss: 0.2517\n",
            "Epoch 15/40\n",
            "\u001b[1m259/259\u001b[0m \u001b[32m━━━━━━━━━━━━━━━━━━━━\u001b[0m\u001b[37m\u001b[0m \u001b[1m278s\u001b[0m 1s/step - accuracy: 0.9754 - loss: 0.0842 - val_accuracy: 0.8531 - val_loss: 0.6462\n",
            "Epoch 16/40\n",
            "\u001b[1m259/259\u001b[0m \u001b[32m━━━━━━━━━━━━━━━━━━━━\u001b[0m\u001b[37m\u001b[0m \u001b[1m276s\u001b[0m 1s/step - accuracy: 0.9770 - loss: 0.0824 - val_accuracy: 0.9588 - val_loss: 0.1568\n",
            "Epoch 17/40\n",
            "\u001b[1m259/259\u001b[0m \u001b[32m━━━━━━━━━━━━━━━━━━━━\u001b[0m\u001b[37m\u001b[0m \u001b[1m277s\u001b[0m 1s/step - accuracy: 0.9758 - loss: 0.0831 - val_accuracy: 0.9413 - val_loss: 0.2833\n",
            "Epoch 18/40\n",
            "\u001b[1m259/259\u001b[0m \u001b[32m━━━━━━━━━━━━━━━━━━━━\u001b[0m\u001b[37m\u001b[0m \u001b[1m319s\u001b[0m 1s/step - accuracy: 0.9712 - loss: 0.1032 - val_accuracy: 0.9465 - val_loss: 0.1807\n",
            "Epoch 19/40\n",
            "\u001b[1m259/259\u001b[0m \u001b[32m━━━━━━━━━━━━━━━━━━━━\u001b[0m\u001b[37m\u001b[0m \u001b[1m327s\u001b[0m 1s/step - accuracy: 0.9789 - loss: 0.0688 - val_accuracy: 0.9349 - val_loss: 0.2642\n",
            "Epoch 20/40\n",
            "\u001b[1m259/259\u001b[0m \u001b[32m━━━━━━━━━━━━━━━━━━━━\u001b[0m\u001b[37m\u001b[0m \u001b[1m273s\u001b[0m 1s/step - accuracy: 0.9792 - loss: 0.0715 - val_accuracy: 0.8824 - val_loss: 0.5684\n",
            "Epoch 21/40\n",
            "\u001b[1m259/259\u001b[0m \u001b[32m━━━━━━━━━━━━━━━━━━━━\u001b[0m\u001b[37m\u001b[0m \u001b[1m273s\u001b[0m 1s/step - accuracy: 0.9797 - loss: 0.0666 - val_accuracy: 0.9020 - val_loss: 0.5133\n",
            "Epoch 22/40\n",
            "\u001b[1m259/259\u001b[0m \u001b[32m━━━━━━━━━━━━━━━━━━━━\u001b[0m\u001b[37m\u001b[0m \u001b[1m324s\u001b[0m 1s/step - accuracy: 0.9801 - loss: 0.0659 - val_accuracy: 0.9539 - val_loss: 0.2116\n",
            "Epoch 23/40\n",
            "\u001b[1m259/259\u001b[0m \u001b[32m━━━━━━━━━━━━━━━━━━━━\u001b[0m\u001b[37m\u001b[0m \u001b[1m328s\u001b[0m 1s/step - accuracy: 0.9800 - loss: 0.0659 - val_accuracy: 0.9555 - val_loss: 0.2087\n",
            "Epoch 24/40\n",
            "\u001b[1m259/259\u001b[0m \u001b[32m━━━━━━━━━━━━━━━━━━━━\u001b[0m\u001b[37m\u001b[0m \u001b[1m325s\u001b[0m 1s/step - accuracy: 0.9798 - loss: 0.0666 - val_accuracy: 0.9646 - val_loss: 0.1564\n",
            "Epoch 25/40\n",
            "\u001b[1m259/259\u001b[0m \u001b[32m━━━━━━━━━━━━━━━━━━━━\u001b[0m\u001b[37m\u001b[0m \u001b[1m279s\u001b[0m 1s/step - accuracy: 0.9804 - loss: 0.0666 - val_accuracy: 0.9188 - val_loss: 0.2831\n",
            "Epoch 26/40\n",
            "\u001b[1m259/259\u001b[0m \u001b[32m━━━━━━━━━━━━━━━━━━━━\u001b[0m\u001b[37m\u001b[0m \u001b[1m353s\u001b[0m 1s/step - accuracy: 0.9811 - loss: 0.0624 - val_accuracy: 0.9024 - val_loss: 0.4311\n",
            "Epoch 27/40\n",
            "\u001b[1m259/259\u001b[0m \u001b[32m━━━━━━━━━━━━━━━━━━━━\u001b[0m\u001b[37m\u001b[0m \u001b[1m281s\u001b[0m 1s/step - accuracy: 0.9838 - loss: 0.0537 - val_accuracy: 0.9628 - val_loss: 0.1299\n",
            "Epoch 28/40\n",
            "\u001b[1m259/259\u001b[0m \u001b[32m━━━━━━━━━━━━━━━━━━━━\u001b[0m\u001b[37m\u001b[0m \u001b[1m319s\u001b[0m 1s/step - accuracy: 0.9815 - loss: 0.0651 - val_accuracy: 0.9430 - val_loss: 0.2469\n",
            "Epoch 29/40\n",
            "\u001b[1m259/259\u001b[0m \u001b[32m━━━━━━━━━━━━━━━━━━━━\u001b[0m\u001b[37m\u001b[0m \u001b[1m322s\u001b[0m 1s/step - accuracy: 0.9807 - loss: 0.0642 - val_accuracy: 0.9760 - val_loss: 0.0800\n",
            "Epoch 30/40\n",
            "\u001b[1m259/259\u001b[0m \u001b[32m━━━━━━━━━━━━━━━━━━━━\u001b[0m\u001b[37m\u001b[0m \u001b[1m321s\u001b[0m 1s/step - accuracy: 0.9869 - loss: 0.0424 - val_accuracy: 0.9048 - val_loss: 0.4031\n",
            "Epoch 31/40\n",
            "\u001b[1m259/259\u001b[0m \u001b[32m━━━━━━━━━━━━━━━━━━━━\u001b[0m\u001b[37m\u001b[0m \u001b[1m278s\u001b[0m 1s/step - accuracy: 0.9860 - loss: 0.0488 - val_accuracy: 0.9547 - val_loss: 0.2184\n",
            "Epoch 32/40\n",
            "\u001b[1m259/259\u001b[0m \u001b[32m━━━━━━━━━━━━━━━━━━━━\u001b[0m\u001b[37m\u001b[0m \u001b[1m301s\u001b[0m 1s/step - accuracy: 0.9839 - loss: 0.0538 - val_accuracy: 0.9451 - val_loss: 0.2314\n",
            "Epoch 33/40\n",
            "\u001b[1m259/259\u001b[0m \u001b[32m━━━━━━━━━━━━━━━━━━━━\u001b[0m\u001b[37m\u001b[0m \u001b[1m274s\u001b[0m 1s/step - accuracy: 0.9825 - loss: 0.0593 - val_accuracy: 0.9743 - val_loss: 0.0869\n",
            "Epoch 34/40\n",
            "\u001b[1m259/259\u001b[0m \u001b[32m━━━━━━━━━━━━━━━━━━━━\u001b[0m\u001b[37m\u001b[0m \u001b[1m319s\u001b[0m 1s/step - accuracy: 0.9836 - loss: 0.0570 - val_accuracy: 0.9376 - val_loss: 0.3466\n",
            "Epoch 35/40\n",
            "\u001b[1m259/259\u001b[0m \u001b[32m━━━━━━━━━━━━━━━━━━━━\u001b[0m\u001b[37m\u001b[0m \u001b[1m323s\u001b[0m 1s/step - accuracy: 0.9882 - loss: 0.0413 - val_accuracy: 0.4037 - val_loss: 1162.1187\n",
            "Epoch 36/40\n",
            "\u001b[1m259/259\u001b[0m \u001b[32m━━━━━━━━━━━━━━━━━━━━\u001b[0m\u001b[37m\u001b[0m \u001b[1m270s\u001b[0m 1s/step - accuracy: 0.9686 - loss: 0.1177 - val_accuracy: 0.9737 - val_loss: 0.0904\n",
            "Epoch 37/40\n",
            "\u001b[1m259/259\u001b[0m \u001b[32m━━━━━━━━━━━━━━━━━━━━\u001b[0m\u001b[37m\u001b[0m \u001b[1m326s\u001b[0m 1s/step - accuracy: 0.9868 - loss: 0.0418 - val_accuracy: 0.9656 - val_loss: 0.1333\n",
            "Epoch 38/40\n",
            "\u001b[1m259/259\u001b[0m \u001b[32m━━━━━━━━━━━━━━━━━━━━\u001b[0m\u001b[37m\u001b[0m \u001b[1m273s\u001b[0m 1s/step - accuracy: 0.9866 - loss: 0.0433 - val_accuracy: 0.9421 - val_loss: 0.2800\n",
            "Epoch 39/40\n",
            "\u001b[1m259/259\u001b[0m \u001b[32m━━━━━━━━━━━━━━━━━━━━\u001b[0m\u001b[37m\u001b[0m \u001b[1m323s\u001b[0m 1s/step - accuracy: 0.9889 - loss: 0.0388 - val_accuracy: 0.9695 - val_loss: 0.1119\n",
            "Epoch 40/40\n",
            "\u001b[1m259/259\u001b[0m \u001b[32m━━━━━━━━━━━━━━━━━━━━\u001b[0m\u001b[37m\u001b[0m \u001b[1m351s\u001b[0m 1s/step - accuracy: 0.9887 - loss: 0.0393 - val_accuracy: 0.9690 - val_loss: 0.1075\n",
            "Found 8339 images belonging to 41 classes.\n"
          ]
        },
        {
          "output_type": "stream",
          "name": "stderr",
          "text": [
            "WARNING:absl:You are saving your model as an HDF5 file via `model.save()` or `keras.saving.save_model(model)`. This file format is considered legacy. We recommend using instead the native Keras format, e.g. `model.save('my_model.keras')` or `keras.saving.save_model(model, 'my_model.keras')`. \n"
          ]
        }
      ]
    },
    {
      "cell_type": "code",
      "source": [
        " #Save the model in native Keras format\n",
        "model.save('plant_disease_model_inception.keras')\n",
        "\n",
        "import joblib\n",
        "\n",
        "# Save the model using joblib\n",
        "joblib.dump(model, 'plant_disease_model_inception.pkl')\n"
      ],
      "metadata": {
        "colab": {
          "base_uri": "https://localhost:8080/"
        },
        "id": "ALARYiZjBEra",
        "outputId": "fecd6a20-5c38-4ace-f60c-66d863420c6b"
      },
      "execution_count": null,
      "outputs": [
        {
          "output_type": "execute_result",
          "data": {
            "text/plain": [
              "['plant_disease_model_inception.pkl']"
            ]
          },
          "metadata": {},
          "execution_count": 29
        }
      ]
    },
    {
      "cell_type": "code",
      "source": [
        "# Save model weights\n",
        "model.save_weights('.weights.h5')\n",
        "\n",
        "# Save model configurations (architecture, optimizer state, etc.)\n",
        "model_config = model.get_config()\n",
        "with open('model_config.pkl', 'wb') as config_file:\n",
        "    joblib.dump(model_config, config_file)"
      ],
      "metadata": {
        "id": "rIxrrSFtBR4_"
      },
      "execution_count": null,
      "outputs": []
    },
    {
      "cell_type": "code",
      "source": [
        "# Plot the metrics to visualize the training process\n",
        "import matplotlib.pyplot as plt\n",
        "\n",
        "def plot_metrics(history):\n",
        "    # Plot training & validation accuracy values\n",
        "    plt.plot(history.history['accuracy'])\n",
        "    plt.plot(history.history['val_accuracy'])\n",
        "    plt.title('Model accuracy')\n",
        "    plt.ylabel('Accuracy')\n",
        "    plt.xlabel('Epoch')\n",
        "    plt.legend(['Train', 'Validation'], loc='upper left')\n",
        "    plt.show()\n",
        "\n",
        "    # Plot training & validation loss values\n",
        "    plt.plot(history.history['loss'])\n",
        "    plt.plot(history.history['val_loss'])\n",
        "    plt.title('Model loss')\n",
        "    plt.ylabel('Loss')\n",
        "    plt.xlabel('Epoch')\n",
        "    plt.legend(['Train', 'Validation'], loc='upper left')\n",
        "    plt.show()\n",
        "\n",
        "plot_metrics(history)"
      ],
      "metadata": {
        "colab": {
          "base_uri": "https://localhost:8080/",
          "height": 927
        },
        "id": "xZXt4IwYHgSu",
        "outputId": "f95624c0-1c39-40d6-bdfc-e1a7889caace"
      },
      "execution_count": null,
      "outputs": [
        {
          "output_type": "display_data",
          "data": {
            "text/plain": [
              "<Figure size 640x480 with 1 Axes>"
            ],
            "image/png": "[encoded data removed]"
          },
          "metadata": {}
        },
        {
          "output_type": "display_data",
          "data": {
            "text/plain": [
              "<Figure size 640x480 with 1 Axes>"
            ],
            "image/png": "[encoded data removed]"
          },
          "metadata": {}
        }
      ]
    },
    {
      "cell_type": "code",
      "source": [
        "# Load the test data\n",
        "test_datagen = ImageDataGenerator(preprocessing_function=preprocess_input)\n",
        "\n",
        "test_dataset = test_datagen.flow_from_directory(\n",
        "    'majorplantdiseasedetection_data/dataset/test',\n",
        "    target_size=(139, 139),\n",
        "    batch_size=batch_size,\n",
        "    class_mode='categorical',\n",
        "    shuffle=False  # Set shuffle to False to maintain the order for evaluation\n",
        ")\n",
        "\n",
        "# Evaluate the model on the test data\n",
        "start_time = time.time()\n",
        "evaluation_result = model.evaluate(test_dataset)\n",
        "print(\"Time taken to evaluate the model: \" + str(time.time() - start_time))\n",
        "\n",
        "# Print the evaluation result\n",
        "print(\"Test Loss:\", evaluation_result[0])\n",
        "print(\"Test Accuracy:\", evaluation_result[1])\n",
        "\n",
        "# Make predictions on the test set\n",
        "y_pred = model.predict(test_dataset)\n",
        "y_pred_bool = np.argmax(y_pred, axis=1)\n",
        "\n",
        "# Get true labels directly from test_dataset\n",
        "true_labels = test_dataset.labels\n",
        "\n",
        "# Print the classification report\n",
        "print(classification_report(true_labels, y_pred_bool, digits=4))\n",
        "\n",
        "# Optionally, you can save the evaluation results for further analysis\n",
        "np.savetxt(\"y_true.txt\", true_labels, fmt=\"%d\")\n",
        "np.savetxt(\"y_pred.txt\", y_pred_bool, fmt=\"%d\")"
      ],
      "metadata": {
        "colab": {
          "base_uri": "https://localhost:8080/"
        },
        "id": "YkEGFtwQB3EA",
        "outputId": "ba393717-36f0-4a52-8b78-6c2a6cb3c258"
      },
      "execution_count": null,
      "outputs": [
        {
          "output_type": "stream",
          "name": "stdout",
          "text": [
            "Found 8339 images belonging to 41 classes.\n",
            "\u001b[1m66/66\u001b[0m \u001b[32m━━━━━━━━━━━━━━━━━━━━\u001b[0m\u001b[37m\u001b[0m \u001b[1m29s\u001b[0m 439ms/step - accuracy: 0.9274 - loss: 0.3683\n",
            "Time taken to evaluate the model: 41.25808620452881\n",
            "Test Loss: 0.24915723502635956\n",
            "Test Accuracy: 0.9463964700698853\n",
            "\u001b[1m66/66\u001b[0m \u001b[32m━━━━━━━━━━━━━━━━━━━━\u001b[0m\u001b[37m\u001b[0m \u001b[1m34s\u001b[0m 429ms/step\n",
            "              precision    recall  f1-score   support\n",
            "\n",
            "           0     1.0000    0.9841    0.9920       126\n",
            "           1     1.0000    0.8468    0.9170       124\n",
            "           2     1.0000    0.9455    0.9720        55\n",
            "           3     0.9907    0.9696    0.9800       329\n",
            "           4     0.9952    0.9952    0.9952       210\n",
            "           5     0.9548    0.9941    0.9741       170\n",
            "           6     1.0000    0.5000    0.6667        10\n",
            "           7     0.3333    0.3000    0.3158        10\n",
            "           8     0.8000    0.8000    0.8000        10\n",
            "           9     0.7273    0.8000    0.7619        10\n",
            "          10     0.7143    1.0000    0.8333        10\n",
            "          11     0.6406    0.3534    0.4556       116\n",
            "          12     0.8500    0.4444    0.5837       153\n",
            "          13     0.1091    0.5806    0.1837        31\n",
            "          14     0.9505    0.9412    0.9458       102\n",
            "          15     1.0000    1.0000    1.0000       238\n",
            "          16     0.9745    0.9695    0.9720       197\n",
            "          17     1.0000    1.0000    1.0000       232\n",
            "          18     0.9955    0.9364    0.9651       236\n",
            "          19     0.9582    0.9964    0.9769       276\n",
            "          20     0.9953    0.9953    0.9953       215\n",
            "          21     1.0000    0.9881    0.9940        84\n",
            "          22     0.9912    0.9826    0.9869       459\n",
            "          23     0.9853    0.9306    0.9571        72\n",
            "          24     0.7747    0.9849    0.8673       199\n",
            "          25     0.9609    1.0000    0.9801       295\n",
            "          26     1.0000    1.0000    1.0000       200\n",
            "          27     0.9612    0.9900    0.9754       200\n",
            "          28     0.9655    0.9333    0.9492        30\n",
            "          29     1.0000    0.9955    0.9977       221\n",
            "          30     0.9891    1.0000    0.9945        91\n",
            "          31     1.0000    0.9435    0.9709       425\n",
            "          32     0.8995    0.8950    0.8972       200\n",
            "          33     0.9381    0.9948    0.9656       381\n",
            "          34     0.9947    0.9947    0.9947       190\n",
            "          35     0.9758    0.9124    0.9431       354\n",
            "          36     0.8780    0.9672    0.9205       335\n",
            "          37     0.9951    0.7214    0.8364       280\n",
            "          38     0.9843    0.9972    0.9907      1071\n",
            "          39     0.9610    1.0000    0.9801        74\n",
            "          40     0.9695    1.0000    0.9845       318\n",
            "\n",
            "    accuracy                         0.9464      8339\n",
            "   macro avg     0.9076    0.8923    0.8896      8339\n",
            "weighted avg     0.9595    0.9464    0.9490      8339\n",
            "\n"
          ]
        }
      ]
    }
  ]
}